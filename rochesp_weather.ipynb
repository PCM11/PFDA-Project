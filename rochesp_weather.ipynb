{
 "cells": [
  {
   "cell_type": "markdown",
   "metadata": {},
   "source": [
    "# Roches Point Weather\n",
    "***"
   ]
  },
  {
   "cell_type": "markdown",
   "metadata": {},
   "source": [
    "### Data Analysis\n",
    "This is a data analysis for Roches Point wind speed record using Pandas Dataframe."
   ]
  },
  {
   "cell_type": "markdown",
   "metadata": {},
   "source": [
    "### Library"
   ]
  },
  {
   "cell_type": "code",
   "execution_count": 74,
   "metadata": {},
   "outputs": [],
   "source": [
    "#Import required libraries\n",
    "\n",
    "import pandas as pd # for data manipulation and analysis\n",
    "import matplotlib.pyplot as plt  # for data visualisation and graphical plotting\n",
    "import seaborn as sns  # built on top of matplotlib with similar functionalities\n",
    "import numpy as np # for mathematical operations on arrays.\n",
    "import datetime as dt"
   ]
  },
  {
   "cell_type": "markdown",
   "metadata": {},
   "source": [
    "#### Load Data"
   ]
  },
  {
   "cell_type": "code",
   "execution_count": 75,
   "metadata": {},
   "outputs": [
    {
     "data": {
      "text/html": [
       "<div>\n",
       "<style scoped>\n",
       "    .dataframe tbody tr th:only-of-type {\n",
       "        vertical-align: middle;\n",
       "    }\n",
       "\n",
       "    .dataframe tbody tr th {\n",
       "        vertical-align: top;\n",
       "    }\n",
       "\n",
       "    .dataframe thead th {\n",
       "        text-align: right;\n",
       "    }\n",
       "</style>\n",
       "<table border=\"1\" class=\"dataframe\">\n",
       "  <thead>\n",
       "    <tr style=\"text-align: right;\">\n",
       "      <th></th>\n",
       "      <th>date</th>\n",
       "      <th>ind</th>\n",
       "      <th>rain</th>\n",
       "      <th>ind.1</th>\n",
       "      <th>temp</th>\n",
       "      <th>ind.2</th>\n",
       "      <th>wetb</th>\n",
       "      <th>dewpt</th>\n",
       "      <th>vappr</th>\n",
       "      <th>rhum</th>\n",
       "      <th>msl</th>\n",
       "      <th>ind.3</th>\n",
       "      <th>wdsp</th>\n",
       "      <th>ind.4</th>\n",
       "      <th>wddir</th>\n",
       "    </tr>\n",
       "  </thead>\n",
       "  <tbody>\n",
       "    <tr>\n",
       "      <th>0</th>\n",
       "      <td>01-dec-1955 01:00</td>\n",
       "      <td>0</td>\n",
       "      <td>0.0</td>\n",
       "      <td>0</td>\n",
       "      <td>10.7</td>\n",
       "      <td>0</td>\n",
       "      <td>10.0</td>\n",
       "      <td>9.4</td>\n",
       "      <td>11.8</td>\n",
       "      <td>91</td>\n",
       "      <td>1002.1</td>\n",
       "      <td>1</td>\n",
       "      <td>16</td>\n",
       "      <td>1</td>\n",
       "      <td>170</td>\n",
       "    </tr>\n",
       "    <tr>\n",
       "      <th>1</th>\n",
       "      <td>01-dec-1955 02:00</td>\n",
       "      <td>0</td>\n",
       "      <td>2.9</td>\n",
       "      <td>0</td>\n",
       "      <td>9.8</td>\n",
       "      <td>0</td>\n",
       "      <td>9.7</td>\n",
       "      <td>10.0</td>\n",
       "      <td>12.0</td>\n",
       "      <td>99</td>\n",
       "      <td>1001.8</td>\n",
       "      <td>1</td>\n",
       "      <td>11</td>\n",
       "      <td>1</td>\n",
       "      <td>190</td>\n",
       "    </tr>\n",
       "    <tr>\n",
       "      <th>2</th>\n",
       "      <td>01-dec-1955 03:00</td>\n",
       "      <td>0</td>\n",
       "      <td>3.8</td>\n",
       "      <td>0</td>\n",
       "      <td>9.7</td>\n",
       "      <td>0</td>\n",
       "      <td>9.5</td>\n",
       "      <td>9.4</td>\n",
       "      <td>11.7</td>\n",
       "      <td>97</td>\n",
       "      <td>1001.7</td>\n",
       "      <td>1</td>\n",
       "      <td>9</td>\n",
       "      <td>1</td>\n",
       "      <td>160</td>\n",
       "    </tr>\n",
       "  </tbody>\n",
       "</table>\n",
       "</div>"
      ],
      "text/plain": [
       "                date  ind rain  ind.1  temp  ind.2  wetb dewpt vappr rhum  \\\n",
       "0  01-dec-1955 01:00    0  0.0      0  10.7      0  10.0   9.4  11.8   91   \n",
       "1  01-dec-1955 02:00    0  2.9      0   9.8      0   9.7  10.0  12.0   99   \n",
       "2  01-dec-1955 03:00    0  3.8      0   9.7      0   9.5   9.4  11.7   97   \n",
       "\n",
       "      msl  ind.3 wdsp  ind.4 wddir  \n",
       "0  1002.1      1   16      1   170  \n",
       "1  1001.8      1   11      1   190  \n",
       "2  1001.7      1    9      1   160  "
      ]
     },
     "execution_count": 75,
     "metadata": {},
     "output_type": "execute_result"
    }
   ],
   "source": [
    "# Load data and skip the first 17 rows.\n",
    "df = pd.read_csv(r\"C:\\Users\\phumi\\OneDrive\\Documents\\hly1075\\Roches Point Weather.csv\", skiprows=17, low_memory=False)\n",
    "\n",
    "# Display the first few rows\n",
    "df.head(3)"
   ]
  },
  {
   "cell_type": "markdown",
   "metadata": {},
   "source": [
    "#### Examine the structure"
   ]
  },
  {
   "cell_type": "code",
   "execution_count": 76,
   "metadata": {},
   "outputs": [
    {
     "name": "stdout",
     "output_type": "stream",
     "text": [
      "<class 'pandas.core.frame.DataFrame'>\n",
      "RangeIndex: 584831 entries, 0 to 584830\n",
      "Data columns (total 15 columns):\n",
      " #   Column  Non-Null Count   Dtype \n",
      "---  ------  --------------   ----- \n",
      " 0   date    584831 non-null  object\n",
      " 1   ind     584831 non-null  int64 \n",
      " 2   rain    584831 non-null  object\n",
      " 3   ind.1   584831 non-null  int64 \n",
      " 4   temp    584831 non-null  object\n",
      " 5   ind.2   584831 non-null  int64 \n",
      " 6   wetb    584831 non-null  object\n",
      " 7   dewpt   584831 non-null  object\n",
      " 8   vappr   584831 non-null  object\n",
      " 9   rhum    584831 non-null  object\n",
      " 10  msl     584831 non-null  object\n",
      " 11  ind.3   584831 non-null  int64 \n",
      " 12  wdsp    584831 non-null  object\n",
      " 13  ind.4   584831 non-null  int64 \n",
      " 14  wddir   584831 non-null  object\n",
      "dtypes: int64(5), object(10)\n",
      "memory usage: 66.9+ MB\n"
     ]
    }
   ],
   "source": [
    "# Check column names and data types.\n",
    "df.info()"
   ]
  },
  {
   "cell_type": "markdown",
   "metadata": {},
   "source": [
    "#### Change data type to floats."
   ]
  },
  {
   "cell_type": "markdown",
   "metadata": {},
   "source": [
    "`pandas.to_numeric`: Convert argument to a numeric type.'\n",
    "\n",
    "https://pandas.pydata.org/pandas-docs/stable/reference/api/pandas.to_numeric.html#pandas-to-numeric"
   ]
  },
  {
   "cell_type": "code",
   "execution_count": 77,
   "metadata": {},
   "outputs": [],
   "source": [
    "# Convert windspeed to floats\n",
    "df['widsp'] = pd.to_numeric(df['wdsp'], errors='coerce')"
   ]
  },
  {
   "cell_type": "markdown",
   "metadata": {},
   "source": [
    "### Statistical Analysis"
   ]
  },
  {
   "cell_type": "code",
   "execution_count": 78,
   "metadata": {},
   "outputs": [
    {
     "data": {
      "text/html": [
       "<div>\n",
       "<style scoped>\n",
       "    .dataframe tbody tr th:only-of-type {\n",
       "        vertical-align: middle;\n",
       "    }\n",
       "\n",
       "    .dataframe tbody tr th {\n",
       "        vertical-align: top;\n",
       "    }\n",
       "\n",
       "    .dataframe thead th {\n",
       "        text-align: right;\n",
       "    }\n",
       "</style>\n",
       "<table border=\"1\" class=\"dataframe\">\n",
       "  <thead>\n",
       "    <tr style=\"text-align: right;\">\n",
       "      <th></th>\n",
       "      <th>ind</th>\n",
       "      <th>ind.1</th>\n",
       "      <th>ind.2</th>\n",
       "      <th>ind.3</th>\n",
       "      <th>ind.4</th>\n",
       "      <th>widsp</th>\n",
       "    </tr>\n",
       "  </thead>\n",
       "  <tbody>\n",
       "    <tr>\n",
       "      <th>count</th>\n",
       "      <td>584831.000000</td>\n",
       "      <td>584831.000000</td>\n",
       "      <td>584831.000000</td>\n",
       "      <td>584831.000000</td>\n",
       "      <td>584831.000000</td>\n",
       "      <td>584498.000000</td>\n",
       "    </tr>\n",
       "    <tr>\n",
       "      <th>mean</th>\n",
       "      <td>0.359164</td>\n",
       "      <td>0.138985</td>\n",
       "      <td>0.189511</td>\n",
       "      <td>1.037088</td>\n",
       "      <td>1.038630</td>\n",
       "      <td>10.743835</td>\n",
       "    </tr>\n",
       "    <tr>\n",
       "      <th>std</th>\n",
       "      <td>0.903212</td>\n",
       "      <td>0.728840</td>\n",
       "      <td>0.845802</td>\n",
       "      <td>0.904438</td>\n",
       "      <td>0.910449</td>\n",
       "      <td>7.613332</td>\n",
       "    </tr>\n",
       "    <tr>\n",
       "      <th>min</th>\n",
       "      <td>-1.000000</td>\n",
       "      <td>0.000000</td>\n",
       "      <td>0.000000</td>\n",
       "      <td>0.000000</td>\n",
       "      <td>0.000000</td>\n",
       "      <td>0.000000</td>\n",
       "    </tr>\n",
       "    <tr>\n",
       "      <th>25%</th>\n",
       "      <td>0.000000</td>\n",
       "      <td>0.000000</td>\n",
       "      <td>0.000000</td>\n",
       "      <td>0.000000</td>\n",
       "      <td>0.000000</td>\n",
       "      <td>5.000000</td>\n",
       "    </tr>\n",
       "    <tr>\n",
       "      <th>50%</th>\n",
       "      <td>0.000000</td>\n",
       "      <td>0.000000</td>\n",
       "      <td>0.000000</td>\n",
       "      <td>1.000000</td>\n",
       "      <td>1.000000</td>\n",
       "      <td>10.000000</td>\n",
       "    </tr>\n",
       "    <tr>\n",
       "      <th>75%</th>\n",
       "      <td>0.000000</td>\n",
       "      <td>0.000000</td>\n",
       "      <td>0.000000</td>\n",
       "      <td>2.000000</td>\n",
       "      <td>2.000000</td>\n",
       "      <td>15.000000</td>\n",
       "    </tr>\n",
       "    <tr>\n",
       "      <th>max</th>\n",
       "      <td>8.000000</td>\n",
       "      <td>4.000000</td>\n",
       "      <td>6.000000</td>\n",
       "      <td>7.000000</td>\n",
       "      <td>7.000000</td>\n",
       "      <td>62.000000</td>\n",
       "    </tr>\n",
       "  </tbody>\n",
       "</table>\n",
       "</div>"
      ],
      "text/plain": [
       "                 ind          ind.1          ind.2          ind.3  \\\n",
       "count  584831.000000  584831.000000  584831.000000  584831.000000   \n",
       "mean        0.359164       0.138985       0.189511       1.037088   \n",
       "std         0.903212       0.728840       0.845802       0.904438   \n",
       "min        -1.000000       0.000000       0.000000       0.000000   \n",
       "25%         0.000000       0.000000       0.000000       0.000000   \n",
       "50%         0.000000       0.000000       0.000000       1.000000   \n",
       "75%         0.000000       0.000000       0.000000       2.000000   \n",
       "max         8.000000       4.000000       6.000000       7.000000   \n",
       "\n",
       "               ind.4          widsp  \n",
       "count  584831.000000  584498.000000  \n",
       "mean        1.038630      10.743835  \n",
       "std         0.910449       7.613332  \n",
       "min         0.000000       0.000000  \n",
       "25%         0.000000       5.000000  \n",
       "50%         1.000000      10.000000  \n",
       "75%         2.000000      15.000000  \n",
       "max         7.000000      62.000000  "
      ]
     },
     "execution_count": 78,
     "metadata": {},
     "output_type": "execute_result"
    }
   ],
   "source": [
    "df.describe()"
   ]
  },
  {
   "cell_type": "markdown",
   "metadata": {},
   "source": [
    "### Cleaning Data"
   ]
  },
  {
   "cell_type": "code",
   "execution_count": 79,
   "metadata": {},
   "outputs": [],
   "source": [
    "# Assign blank cells(\" \") to NAN values.\n",
    "df.replace(r\"^\\s*$\", np.nan, regex=True, inplace=True)"
   ]
  },
  {
   "cell_type": "code",
   "execution_count": 80,
   "metadata": {},
   "outputs": [
    {
     "data": {
      "text/plain": [
       "date         0\n",
       "ind          0\n",
       "rain       330\n",
       "ind.1        0\n",
       "temp     18722\n",
       "ind.2        0\n",
       "wetb     26434\n",
       "dewpt    26434\n",
       "vappr    49543\n",
       "rhum     49540\n",
       "msl      32806\n",
       "ind.3        0\n",
       "wdsp       333\n",
       "ind.4        0\n",
       "wddir      575\n",
       "widsp      333\n",
       "dtype: int64"
      ]
     },
     "execution_count": 80,
     "metadata": {},
     "output_type": "execute_result"
    }
   ],
   "source": [
    "# Check for missing data.\n",
    "df.isnull().sum()"
   ]
  },
  {
   "cell_type": "markdown",
   "metadata": {},
   "source": [
    "#### Remove missing values"
   ]
  },
  {
   "cell_type": "code",
   "execution_count": 81,
   "metadata": {},
   "outputs": [],
   "source": [
    "# Drop null values.\n",
    "df.dropna(inplace = True)\n"
   ]
  },
  {
   "cell_type": "code",
   "execution_count": 82,
   "metadata": {},
   "outputs": [
    {
     "name": "stdout",
     "output_type": "stream",
     "text": [
      "date     0\n",
      "ind      0\n",
      "rain     0\n",
      "ind.1    0\n",
      "temp     0\n",
      "ind.2    0\n",
      "wetb     0\n",
      "dewpt    0\n",
      "vappr    0\n",
      "rhum     0\n",
      "msl      0\n",
      "ind.3    0\n",
      "wdsp     0\n",
      "ind.4    0\n",
      "wddir    0\n",
      "widsp    0\n",
      "dtype: int64\n"
     ]
    }
   ],
   "source": [
    "# Check if data is clean\n",
    "print(df.isna().sum())"
   ]
  },
  {
   "cell_type": "markdown",
   "metadata": {},
   "source": [
    "### Data Visualisation"
   ]
  },
  {
   "cell_type": "markdown",
   "metadata": {},
   "source": [
    "#### Set index to `datetime`.\n",
    "\n",
    "`DatetimeIndex` is a fundamental object in Pandas for handling time series data, allowing for precise date and time indexing.\n"
   ]
  },
  {
   "cell_type": "markdown",
   "metadata": {},
   "source": [
    "\n",
    "https://pandas.pydata.org/pandas-docs/stable/reference/api/pandas.to_datetime.html#pandas-to-datetime"
   ]
  },
  {
   "cell_type": "code",
   "execution_count": 83,
   "metadata": {},
   "outputs": [
    {
     "name": "stderr",
     "output_type": "stream",
     "text": [
      "C:\\Users\\phumi\\AppData\\Local\\Temp\\ipykernel_22120\\4117001753.py:1: UserWarning: Could not infer format, so each element will be parsed individually, falling back to `dateutil`. To ensure parsing is consistent and as-expected, please specify a format.\n",
      "  pd.to_datetime(df['date']).dt.strftime('%Y-%m-%dT%H:%M:%S')\n",
      "C:\\Users\\phumi\\AppData\\Local\\Temp\\ipykernel_22120\\4117001753.py:2: UserWarning: Could not infer format, so each element will be parsed individually, falling back to `dateutil`. To ensure parsing is consistent and as-expected, please specify a format.\n",
      "  df['date'] = pd.to_datetime(df['date'])\n"
     ]
    },
    {
     "data": {
      "text/plain": [
       "0        1955-12-01 01:00:00\n",
       "1        1955-12-01 02:00:00\n",
       "2        1955-12-01 03:00:00\n",
       "3        1955-12-01 04:00:00\n",
       "4        1955-12-01 05:00:00\n",
       "                 ...        \n",
       "584826   2024-10-31 20:00:00\n",
       "584827   2024-10-31 21:00:00\n",
       "584828   2024-10-31 22:00:00\n",
       "584829   2024-10-31 23:00:00\n",
       "584830   2024-11-01 00:00:00\n",
       "Name: date, Length: 528694, dtype: datetime64[ns]"
      ]
     },
     "execution_count": 83,
     "metadata": {},
     "output_type": "execute_result"
    }
   ],
   "source": [
    "# Setting the index to the datetime.\n",
    "pd.to_datetime(df['date']).dt.strftime('%Y-%m-%dT%H:%M:%S')\n",
    "df['date'] = pd.to_datetime(df['date'])\n",
    "df['date']"
   ]
  },
  {
   "cell_type": "markdown",
   "metadata": {},
   "source": [
    "#### Plots for Windspeed Data"
   ]
  },
  {
   "cell_type": "code",
   "execution_count": 95,
   "metadata": {},
   "outputs": [
    {
     "data": {
      "image/png": "[encoded data removed]",
      "text/plain": [
       "<Figure size 800x600 with 1 Axes>"
      ]
     },
     "metadata": {},
     "output_type": "display_data"
    }
   ],
   "source": [
    "# Plot windspeed over time\n",
    "\n",
    "plt.figure(figsize=(8, 6))\n",
    "sns.lineplot(data=df, x='date', y='wdsp')\n",
    "plt.xlabel('Date')\n",
    "plt.ylabel('Windspeed (km/h)')\n",
    "\n",
    "plt.xticks(rotation=45)\n",
    "plt.grid(True)\n",
    "plt.title('Windspeed over Time')\n",
    "plt.savefig('img/windspeed_over_time')"
   ]
  },
  {
   "cell_type": "markdown",
   "metadata": {},
   "source": [
    "#### Calculate Mean Speed"
   ]
  },
  {
   "cell_type": "code",
   "execution_count": 98,
   "metadata": {},
   "outputs": [
    {
     "data": {
      "text/plain": [
       "16.0"
      ]
     },
     "execution_count": 98,
     "metadata": {},
     "output_type": "execute_result"
    }
   ],
   "source": [
    "# Mean speed per year\n",
    "dateFrom = \"1955-12-01 01:00:00\"\n",
    "dateTo = \"1955-12-01 01:00:00\"\n",
    "df.loc[dateFrom:dateTo]['wdsp'].mean()\n"
   ]
  },
  {
   "cell_type": "code",
   "execution_count": 97,
   "metadata": {},
   "outputs": [
    {
     "data": {
      "text/plain": [
       "date\n",
       "1955-12-31    14.767160\n",
       "1956-12-31    12.110997\n",
       "1957-12-31    11.839155\n",
       "1958-12-31    11.665297\n",
       "1959-12-31    11.964612\n",
       "                ...    \n",
       "2020-12-31    13.123862\n",
       "2021-12-31    11.782877\n",
       "2022-12-31    12.417009\n",
       "2023-12-31    12.360731\n",
       "2024-12-31    12.411556\n",
       "Freq: YE-DEC, Name: wdsp, Length: 70, dtype: float64"
      ]
     },
     "execution_count": 97,
     "metadata": {},
     "output_type": "execute_result"
    }
   ],
   "source": [
    "df[\"wdsp\"].resample(\"YE\").mean()"
   ]
  },
  {
   "cell_type": "markdown",
   "metadata": {},
   "source": [
    "### End"
   ]
  }
 ],
 "metadata": {
  "kernelspec": {
   "display_name": "base",
   "language": "python",
   "name": "python3"
  },
  "language_info": {
   "codemirror_mode": {
    "name": "ipython",
    "version": 3
   },
   "file_extension": ".py",
   "mimetype": "text/x-python",
   "name": "python",
   "nbconvert_exporter": "python",
   "pygments_lexer": "ipython3",
   "version": "3.12.4"
  }
 },
 "nbformat": 4,
 "nbformat_minor": 2
}
